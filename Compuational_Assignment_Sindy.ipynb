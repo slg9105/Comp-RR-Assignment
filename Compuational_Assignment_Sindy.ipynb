{
  "nbformat": 4,
  "nbformat_minor": 0,
  "metadata": {
    "colab": {
      "provenance": [],
      "authorship_tag": "ABX9TyO9QUtQxq8TSi0prXDv+VR/",
      "include_colab_link": true
    },
    "kernelspec": {
      "name": "python3",
      "display_name": "Python 3"
    },
    "language_info": {
      "name": "python"
    }
  },
  "cells": [
    {
      "cell_type": "markdown",
      "metadata": {
        "id": "view-in-github",
        "colab_type": "text"
      },
      "source": [
        "<a href=\"https://colab.research.google.com/github/slg9105/Comp-RR-Assignment/blob/main/Compuational_Assignment_Sindy.ipynb\" target=\"_parent\"><img src=\"https://colab.research.google.com/assets/colab-badge.svg\" alt=\"Open In Colab\"/></a>"
      ]
    },
    {
      "cell_type": "code",
      "source": [
        "# prompt: print name\n",
        "print(\"Sindy Gorka\")\n",
        "\n",
        "# prompt: print date\n",
        "import datetime\n",
        "print(datetime.date.today())\n",
        "\n",
        "# prompt: print simple arithmetic operation\n",
        "print(5 + 3)\n",
        "\n",
        "# prompt: print brief reflection\n",
        "print(\"\"\"\n",
        "Using repositories like GitHub is essential for enhancing computational\n",
        "reproducibility in several key ways.\n",
        "\n",
        "First, repositories provide a centralized location for all project files,\n",
        "including code, data, and documentation. This organization ensures that anyone\n",
        "can access the complete project setup, making it easier to replicate analyses.\n",
        "\n",
        "Second, version control is a powerful feature of platforms like GitHub. By\n",
        "tracking changes over time, users can see the evolution of their code, identify\n",
        "when specific changes were made, and understand the rationale behind those\n",
        "changes. This is crucial for reproducibility, as it allows others to trace the\n",
        "steps that led to a particular result, making it easier to replicate or build\n",
        "upon previous work.\n",
        "\n",
        "Third, the ability to publish repositories publicly encourages transparency.\n",
        "Sharing code and data openly fosters collaboration and peer review, which can\n",
        "lead to improved methods and results. When researchers share their work, they\n",
        "contribute to a collective knowledge base, allowing others to validate findings\n",
        "and learn from their approaches.\n",
        "\n",
        "Lastly, GitHub supports collaboration among multiple users, enabling teams to\n",
        "work simultaneously on the same project. This collaborative environment\n",
        "enhances reproducibility by allowing different contributors to share insights\n",
        "and corrections, leading to more robust and validated results.\n",
        "\n",
        "Overall, using repositories for tracking changes and publishing code not only\n",
        "facilitates better organization but also strengthens the credibility and\n",
        "reproducibility of computational research. By providing clear records and\n",
        "promoting collaboration, platforms like GitHub play a crucial role in advancing\n",
        "scientific inquiry and ensuring that results can be reliably reproduced by\n",
        "others.\n",
        "\"\"\")\n"
      ],
      "metadata": {
        "colab": {
          "base_uri": "https://localhost:8080/"
        },
        "id": "JsJsQCIEg6CJ",
        "outputId": "1b5ded1c-3afb-48d6-84ea-22d99a38b7e3"
      },
      "execution_count": 7,
      "outputs": [
        {
          "output_type": "stream",
          "name": "stdout",
          "text": [
            "Sindy Gorka\n",
            "2024-10-30\n",
            "8\n",
            "\n",
            "Using repositories like GitHub is essential for enhancing computational \n",
            "reproducibility in several key ways. \n",
            "\n",
            "First, repositories provide a centralized location for all project files, \n",
            "including code, data, and documentation. This organization ensures that anyone \n",
            "can access the complete project setup, making it easier to replicate analyses. \n",
            "\n",
            "Second, version control is a powerful feature of platforms like GitHub. By \n",
            "tracking changes over time, users can see the evolution of their code, identify \n",
            "when specific changes were made, and understand the rationale behind those \n",
            "changes. This is crucial for reproducibility, as it allows others to trace the \n",
            "steps that led to a particular result, making it easier to replicate or build \n",
            "upon previous work. \n",
            "\n",
            "Third, the ability to publish repositories publicly encourages transparency. \n",
            "Sharing code and data openly fosters collaboration and peer review, which can \n",
            "lead to improved methods and results. When researchers share their work, they \n",
            "contribute to a collective knowledge base, allowing others to validate findings \n",
            "and learn from their approaches. \n",
            "\n",
            "Lastly, GitHub supports collaboration among multiple users, enabling teams to \n",
            "work simultaneously on the same project. This collaborative environment \n",
            "enhances reproducibility by allowing different contributors to share insights \n",
            "and corrections, leading to more robust and validated results. \n",
            "\n",
            "Overall, using repositories for tracking changes and publishing code not only \n",
            "facilitates better organization but also strengthens the credibility and \n",
            "reproducibility of computational research. By providing clear records and \n",
            "promoting collaboration, platforms like GitHub play a crucial role in advancing \n",
            "scientific inquiry and ensuring that results can be reliably reproduced by \n",
            "others.\n",
            "\n"
          ]
        }
      ]
    }
  ]
}